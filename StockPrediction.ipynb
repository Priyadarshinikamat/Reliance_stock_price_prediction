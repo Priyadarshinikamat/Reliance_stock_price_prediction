{
  "nbformat": 4,
  "nbformat_minor": 0,
  "metadata": {
    "colab": {
      "provenance": []
    },
    "kernelspec": {
      "name": "python3",
      "display_name": "Python 3"
    },
    "language_info": {
      "name": "python"
    }
  },
  "cells": [
    {
      "cell_type": "code",
      "execution_count": 42,
      "metadata": {
        "colab": {
          "base_uri": "https://localhost:8080/",
          "height": 237
        },
        "id": "qY01OXK129j9",
        "outputId": "caa34099-545f-40c3-c355-a406d927e37c"
      },
      "outputs": [
        {
          "output_type": "execute_result",
          "data": {
            "text/plain": [
              "                   Open         High          Low        Close    Adj Close  \\\n",
              "Date                                                                          \n",
              "2020-01-01  1503.745972  1512.760498  1491.363403  1495.424927  1480.595825   \n",
              "2020-01-02  1497.802368  1526.480469  1497.802368  1520.883545  1505.802002   \n",
              "2020-01-03  1518.605103  1527.173950  1508.699097  1522.716187  1507.616455   \n",
              "2020-01-06  1505.727173  1513.552979  1483.933838  1487.400879  1472.651367   \n",
              "2020-01-07  1504.736572  1520.091064  1499.288208  1510.284058  1495.307617   \n",
              "\n",
              "              Volume  \n",
              "Date                  \n",
              "2020-01-01   6463060  \n",
              "2020-01-02   8173308  \n",
              "2020-01-03   9684434  \n",
              "2020-01-06  11315596  \n",
              "2020-01-07   7699489  "
            ],
            "text/html": [
              "\n",
              "  <div id=\"df-94d9e831-c714-40d3-ae86-09a5739adb33\">\n",
              "    <div class=\"colab-df-container\">\n",
              "      <div>\n",
              "<style scoped>\n",
              "    .dataframe tbody tr th:only-of-type {\n",
              "        vertical-align: middle;\n",
              "    }\n",
              "\n",
              "    .dataframe tbody tr th {\n",
              "        vertical-align: top;\n",
              "    }\n",
              "\n",
              "    .dataframe thead th {\n",
              "        text-align: right;\n",
              "    }\n",
              "</style>\n",
              "<table border=\"1\" class=\"dataframe\">\n",
              "  <thead>\n",
              "    <tr style=\"text-align: right;\">\n",
              "      <th></th>\n",
              "      <th>Open</th>\n",
              "      <th>High</th>\n",
              "      <th>Low</th>\n",
              "      <th>Close</th>\n",
              "      <th>Adj Close</th>\n",
              "      <th>Volume</th>\n",
              "    </tr>\n",
              "    <tr>\n",
              "      <th>Date</th>\n",
              "      <th></th>\n",
              "      <th></th>\n",
              "      <th></th>\n",
              "      <th></th>\n",
              "      <th></th>\n",
              "      <th></th>\n",
              "    </tr>\n",
              "  </thead>\n",
              "  <tbody>\n",
              "    <tr>\n",
              "      <th>2020-01-01</th>\n",
              "      <td>1503.745972</td>\n",
              "      <td>1512.760498</td>\n",
              "      <td>1491.363403</td>\n",
              "      <td>1495.424927</td>\n",
              "      <td>1480.595825</td>\n",
              "      <td>6463060</td>\n",
              "    </tr>\n",
              "    <tr>\n",
              "      <th>2020-01-02</th>\n",
              "      <td>1497.802368</td>\n",
              "      <td>1526.480469</td>\n",
              "      <td>1497.802368</td>\n",
              "      <td>1520.883545</td>\n",
              "      <td>1505.802002</td>\n",
              "      <td>8173308</td>\n",
              "    </tr>\n",
              "    <tr>\n",
              "      <th>2020-01-03</th>\n",
              "      <td>1518.605103</td>\n",
              "      <td>1527.173950</td>\n",
              "      <td>1508.699097</td>\n",
              "      <td>1522.716187</td>\n",
              "      <td>1507.616455</td>\n",
              "      <td>9684434</td>\n",
              "    </tr>\n",
              "    <tr>\n",
              "      <th>2020-01-06</th>\n",
              "      <td>1505.727173</td>\n",
              "      <td>1513.552979</td>\n",
              "      <td>1483.933838</td>\n",
              "      <td>1487.400879</td>\n",
              "      <td>1472.651367</td>\n",
              "      <td>11315596</td>\n",
              "    </tr>\n",
              "    <tr>\n",
              "      <th>2020-01-07</th>\n",
              "      <td>1504.736572</td>\n",
              "      <td>1520.091064</td>\n",
              "      <td>1499.288208</td>\n",
              "      <td>1510.284058</td>\n",
              "      <td>1495.307617</td>\n",
              "      <td>7699489</td>\n",
              "    </tr>\n",
              "  </tbody>\n",
              "</table>\n",
              "</div>\n",
              "      <button class=\"colab-df-convert\" onclick=\"convertToInteractive('df-94d9e831-c714-40d3-ae86-09a5739adb33')\"\n",
              "              title=\"Convert this dataframe to an interactive table.\"\n",
              "              style=\"display:none;\">\n",
              "        \n",
              "  <svg xmlns=\"http://www.w3.org/2000/svg\" height=\"24px\"viewBox=\"0 0 24 24\"\n",
              "       width=\"24px\">\n",
              "    <path d=\"M0 0h24v24H0V0z\" fill=\"none\"/>\n",
              "    <path d=\"M18.56 5.44l.94 2.06.94-2.06 2.06-.94-2.06-.94-.94-2.06-.94 2.06-2.06.94zm-11 1L8.5 8.5l.94-2.06 2.06-.94-2.06-.94L8.5 2.5l-.94 2.06-2.06.94zm10 10l.94 2.06.94-2.06 2.06-.94-2.06-.94-.94-2.06-.94 2.06-2.06.94z\"/><path d=\"M17.41 7.96l-1.37-1.37c-.4-.4-.92-.59-1.43-.59-.52 0-1.04.2-1.43.59L10.3 9.45l-7.72 7.72c-.78.78-.78 2.05 0 2.83L4 21.41c.39.39.9.59 1.41.59.51 0 1.02-.2 1.41-.59l7.78-7.78 2.81-2.81c.8-.78.8-2.07 0-2.86zM5.41 20L4 18.59l7.72-7.72 1.47 1.35L5.41 20z\"/>\n",
              "  </svg>\n",
              "      </button>\n",
              "      \n",
              "  <style>\n",
              "    .colab-df-container {\n",
              "      display:flex;\n",
              "      flex-wrap:wrap;\n",
              "      gap: 12px;\n",
              "    }\n",
              "\n",
              "    .colab-df-convert {\n",
              "      background-color: #E8F0FE;\n",
              "      border: none;\n",
              "      border-radius: 50%;\n",
              "      cursor: pointer;\n",
              "      display: none;\n",
              "      fill: #1967D2;\n",
              "      height: 32px;\n",
              "      padding: 0 0 0 0;\n",
              "      width: 32px;\n",
              "    }\n",
              "\n",
              "    .colab-df-convert:hover {\n",
              "      background-color: #E2EBFA;\n",
              "      box-shadow: 0px 1px 2px rgba(60, 64, 67, 0.3), 0px 1px 3px 1px rgba(60, 64, 67, 0.15);\n",
              "      fill: #174EA6;\n",
              "    }\n",
              "\n",
              "    [theme=dark] .colab-df-convert {\n",
              "      background-color: #3B4455;\n",
              "      fill: #D2E3FC;\n",
              "    }\n",
              "\n",
              "    [theme=dark] .colab-df-convert:hover {\n",
              "      background-color: #434B5C;\n",
              "      box-shadow: 0px 1px 3px 1px rgba(0, 0, 0, 0.15);\n",
              "      filter: drop-shadow(0px 1px 2px rgba(0, 0, 0, 0.3));\n",
              "      fill: #FFFFFF;\n",
              "    }\n",
              "  </style>\n",
              "\n",
              "      <script>\n",
              "        const buttonEl =\n",
              "          document.querySelector('#df-94d9e831-c714-40d3-ae86-09a5739adb33 button.colab-df-convert');\n",
              "        buttonEl.style.display =\n",
              "          google.colab.kernel.accessAllowed ? 'block' : 'none';\n",
              "\n",
              "        async function convertToInteractive(key) {\n",
              "          const element = document.querySelector('#df-94d9e831-c714-40d3-ae86-09a5739adb33');\n",
              "          const dataTable =\n",
              "            await google.colab.kernel.invokeFunction('convertToInteractive',\n",
              "                                                     [key], {});\n",
              "          if (!dataTable) return;\n",
              "\n",
              "          const docLinkHtml = 'Like what you see? Visit the ' +\n",
              "            '<a target=\"_blank\" href=https://colab.research.google.com/notebooks/data_table.ipynb>data table notebook</a>'\n",
              "            + ' to learn more about interactive tables.';\n",
              "          element.innerHTML = '';\n",
              "          dataTable['output_type'] = 'display_data';\n",
              "          await google.colab.output.renderOutput(dataTable, element);\n",
              "          const docLink = document.createElement('div');\n",
              "          docLink.innerHTML = docLinkHtml;\n",
              "          element.appendChild(docLink);\n",
              "        }\n",
              "      </script>\n",
              "    </div>\n",
              "  </div>\n",
              "  "
            ]
          },
          "metadata": {},
          "execution_count": 42
        }
      ],
      "source": [
        "import pandas as pd\n",
        "stock_data= pd.read_csv(\"/content/RELIANCE.NS.csv\", index_col= 'Date')\n",
        "stock_data.head()"
      ]
    },
    {
      "cell_type": "code",
      "source": [
        "import matplotlib.dates as mdates\n",
        "import matplotlib.pyplot as plt\n",
        "import datetime as dt\n",
        "plt.figure(figsize=(15,10))\n",
        "plt.gca().xaxis.set_major_formatter(mdates.DateFormatter('%Y-%m-%d'))\n",
        "plt.gca().xaxis.set_major_locator(mdates.DayLocator(interval=60))\n",
        "\n",
        "x_dates = [dt.datetime.strptime(d,'%Y-%m-%d').date() for d in stock_data.index.values]\n",
        "plt.plot(x_dates, stock_data['High'], label='High')\n",
        "plt.plot(x_dates, stock_data['Low'], label='Low')\n",
        "plt.xlabel('Time Scale')\n",
        "plt.ylabel('Scaled USD')\n",
        "plt.legend ()\n",
        "plt.gcf().autofmt_xdate()\n",
        "plt.show()"
      ],
      "metadata": {
        "colab": {
          "base_uri": "https://localhost:8080/",
          "height": 579
        },
        "id": "DcG0RdqQ3tzw",
        "outputId": "031f54b4-ba1f-493f-ec67-49b332c5d5c6"
      },
      "execution_count": 43,
      "outputs": [
        {
          "output_type": "display_data",
          "data": {
            "text/plain": [
              "<Figure size 1080x720 with 1 Axes>"
            ],
            "image/png": "[encoded data removed]"
          },
          "metadata": {
            "needs_background": "light"
          }
        }
      ]
    },
    {
      "cell_type": "code",
      "source": [
        "import matplotlib.pyplot as plt\n",
        "import pandas as pd\n",
        "import numpy as np\n",
        "from tensorflow.keras.models import Sequential\n",
        "from tensorflow.keras.layers import Dense, LSTM, Dropout\n",
        "from tensorflow.keras.layers import *\n",
        "from tensorflow.keras.callbacks import EarlyStopping\n",
        "\n",
        "from sklearn.preprocessing import MinMaxScaler, StandardScaler\n",
        "from sklearn.metrics import mean_squared_error, mean_absolute_percentage_error\n",
        "from sklearn.model_selection import train_test_split, TimeSeriesSplit\n"
      ],
      "metadata": {
        "id": "BPcHZIlD6dK3"
      },
      "execution_count": 44,
      "outputs": []
    },
    {
      "cell_type": "code",
      "source": [
        "target_y= stock_data['Close']\n",
        "X_feat= stock_data.iloc[:,0:3]"
      ],
      "metadata": {
        "id": "DXQttkJi7Qbj"
      },
      "execution_count": 45,
      "outputs": []
    },
    {
      "cell_type": "code",
      "source": [
        "sc= StandardScaler()\n",
        "X_ft= sc.fit_transform(X_feat.values)\n",
        "X_ft= pd.DataFrame(columns= X_feat.columns, data=X_ft, index= X_feat.index)\n",
        "X_ft.head()"
      ],
      "metadata": {
        "colab": {
          "base_uri": "https://localhost:8080/",
          "height": 237
        },
        "id": "NSz1b0jf7g0G",
        "outputId": "d7871e38-3b2e-4d53-8c29-888e894d4fbb"
      },
      "execution_count": 46,
      "outputs": [
        {
          "output_type": "execute_result",
          "data": {
            "text/plain": [
              "                Open      High       Low\n",
              "Date                                    \n",
              "2020-01-01 -1.572950 -1.610758 -1.540494\n",
              "2020-01-02 -1.587276 -1.577736 -1.524953\n",
              "2020-01-03 -1.537137 -1.576067 -1.498653\n",
              "2020-01-06 -1.568175 -1.608851 -1.558425\n",
              "2020-01-07 -1.570563 -1.593114 -1.521367"
            ],
            "text/html": [
              "\n",
              "  <div id=\"df-3911564c-77ff-4ed8-a580-07c6be8cbf75\">\n",
              "    <div class=\"colab-df-container\">\n",
              "      <div>\n",
              "<style scoped>\n",
              "    .dataframe tbody tr th:only-of-type {\n",
              "        vertical-align: middle;\n",
              "    }\n",
              "\n",
              "    .dataframe tbody tr th {\n",
              "        vertical-align: top;\n",
              "    }\n",
              "\n",
              "    .dataframe thead th {\n",
              "        text-align: right;\n",
              "    }\n",
              "</style>\n",
              "<table border=\"1\" class=\"dataframe\">\n",
              "  <thead>\n",
              "    <tr style=\"text-align: right;\">\n",
              "      <th></th>\n",
              "      <th>Open</th>\n",
              "      <th>High</th>\n",
              "      <th>Low</th>\n",
              "    </tr>\n",
              "    <tr>\n",
              "      <th>Date</th>\n",
              "      <th></th>\n",
              "      <th></th>\n",
              "      <th></th>\n",
              "    </tr>\n",
              "  </thead>\n",
              "  <tbody>\n",
              "    <tr>\n",
              "      <th>2020-01-01</th>\n",
              "      <td>-1.572950</td>\n",
              "      <td>-1.610758</td>\n",
              "      <td>-1.540494</td>\n",
              "    </tr>\n",
              "    <tr>\n",
              "      <th>2020-01-02</th>\n",
              "      <td>-1.587276</td>\n",
              "      <td>-1.577736</td>\n",
              "      <td>-1.524953</td>\n",
              "    </tr>\n",
              "    <tr>\n",
              "      <th>2020-01-03</th>\n",
              "      <td>-1.537137</td>\n",
              "      <td>-1.576067</td>\n",
              "      <td>-1.498653</td>\n",
              "    </tr>\n",
              "    <tr>\n",
              "      <th>2020-01-06</th>\n",
              "      <td>-1.568175</td>\n",
              "      <td>-1.608851</td>\n",
              "      <td>-1.558425</td>\n",
              "    </tr>\n",
              "    <tr>\n",
              "      <th>2020-01-07</th>\n",
              "      <td>-1.570563</td>\n",
              "      <td>-1.593114</td>\n",
              "      <td>-1.521367</td>\n",
              "    </tr>\n",
              "  </tbody>\n",
              "</table>\n",
              "</div>\n",
              "      <button class=\"colab-df-convert\" onclick=\"convertToInteractive('df-3911564c-77ff-4ed8-a580-07c6be8cbf75')\"\n",
              "              title=\"Convert this dataframe to an interactive table.\"\n",
              "              style=\"display:none;\">\n",
              "        \n",
              "  <svg xmlns=\"http://www.w3.org/2000/svg\" height=\"24px\"viewBox=\"0 0 24 24\"\n",
              "       width=\"24px\">\n",
              "    <path d=\"M0 0h24v24H0V0z\" fill=\"none\"/>\n",
              "    <path d=\"M18.56 5.44l.94 2.06.94-2.06 2.06-.94-2.06-.94-.94-2.06-.94 2.06-2.06.94zm-11 1L8.5 8.5l.94-2.06 2.06-.94-2.06-.94L8.5 2.5l-.94 2.06-2.06.94zm10 10l.94 2.06.94-2.06 2.06-.94-2.06-.94-.94-2.06-.94 2.06-2.06.94z\"/><path d=\"M17.41 7.96l-1.37-1.37c-.4-.4-.92-.59-1.43-.59-.52 0-1.04.2-1.43.59L10.3 9.45l-7.72 7.72c-.78.78-.78 2.05 0 2.83L4 21.41c.39.39.9.59 1.41.59.51 0 1.02-.2 1.41-.59l7.78-7.78 2.81-2.81c.8-.78.8-2.07 0-2.86zM5.41 20L4 18.59l7.72-7.72 1.47 1.35L5.41 20z\"/>\n",
              "  </svg>\n",
              "      </button>\n",
              "      \n",
              "  <style>\n",
              "    .colab-df-container {\n",
              "      display:flex;\n",
              "      flex-wrap:wrap;\n",
              "      gap: 12px;\n",
              "    }\n",
              "\n",
              "    .colab-df-convert {\n",
              "      background-color: #E8F0FE;\n",
              "      border: none;\n",
              "      border-radius: 50%;\n",
              "      cursor: pointer;\n",
              "      display: none;\n",
              "      fill: #1967D2;\n",
              "      height: 32px;\n",
              "      padding: 0 0 0 0;\n",
              "      width: 32px;\n",
              "    }\n",
              "\n",
              "    .colab-df-convert:hover {\n",
              "      background-color: #E2EBFA;\n",
              "      box-shadow: 0px 1px 2px rgba(60, 64, 67, 0.3), 0px 1px 3px 1px rgba(60, 64, 67, 0.15);\n",
              "      fill: #174EA6;\n",
              "    }\n",
              "\n",
              "    [theme=dark] .colab-df-convert {\n",
              "      background-color: #3B4455;\n",
              "      fill: #D2E3FC;\n",
              "    }\n",
              "\n",
              "    [theme=dark] .colab-df-convert:hover {\n",
              "      background-color: #434B5C;\n",
              "      box-shadow: 0px 1px 3px 1px rgba(0, 0, 0, 0.15);\n",
              "      filter: drop-shadow(0px 1px 2px rgba(0, 0, 0, 0.3));\n",
              "      fill: #FFFFFF;\n",
              "    }\n",
              "  </style>\n",
              "\n",
              "      <script>\n",
              "        const buttonEl =\n",
              "          document.querySelector('#df-3911564c-77ff-4ed8-a580-07c6be8cbf75 button.colab-df-convert');\n",
              "        buttonEl.style.display =\n",
              "          google.colab.kernel.accessAllowed ? 'block' : 'none';\n",
              "\n",
              "        async function convertToInteractive(key) {\n",
              "          const element = document.querySelector('#df-3911564c-77ff-4ed8-a580-07c6be8cbf75');\n",
              "          const dataTable =\n",
              "            await google.colab.kernel.invokeFunction('convertToInteractive',\n",
              "                                                     [key], {});\n",
              "          if (!dataTable) return;\n",
              "\n",
              "          const docLinkHtml = 'Like what you see? Visit the ' +\n",
              "            '<a target=\"_blank\" href=https://colab.research.google.com/notebooks/data_table.ipynb>data table notebook</a>'\n",
              "            + ' to learn more about interactive tables.';\n",
              "          element.innerHTML = '';\n",
              "          dataTable['output_type'] = 'display_data';\n",
              "          await google.colab.output.renderOutput(dataTable, element);\n",
              "          const docLink = document.createElement('div');\n",
              "          docLink.innerHTML = docLinkHtml;\n",
              "          element.appendChild(docLink);\n",
              "        }\n",
              "      </script>\n",
              "    </div>\n",
              "  </div>\n",
              "  "
            ]
          },
          "metadata": {},
          "execution_count": 46
        }
      ]
    },
    {
      "cell_type": "code",
      "source": [
        "def lstm_split(data,n_steps):\n",
        "  X,y= [],[]\n",
        "  for i in range(len(data)-n_steps+1):\n",
        "    X.append(data[i:i+n_steps,:-1])\n",
        "    y.append(data[i+n_steps-1,-1])\n",
        "  return np.array(X), np.array(y)\n"
      ],
      "metadata": {
        "id": "0ZdXvAVE725F"
      },
      "execution_count": 47,
      "outputs": []
    },
    {
      "cell_type": "code",
      "source": [
        "X1, y1= lstm_split(X_ft.values, n_steps=2)\n",
        "#print(X1[:5])\n",
        "train_split= 0.8\n",
        "split_idx= int(np.ceil(len(X1)*train_split))\n",
        "date_index= X_ft.index\n",
        "\n",
        "X_train, X_test= X1[:split_idx],X1[split_idx:]\n",
        "y_train, y_test= y1[:split_idx],y1[split_idx:]\n",
        "X_train_date, X_test_date= date_index[:split_idx], date_index[split_idx:] \n",
        "print(X1.shape, X_train.shape, X_test.shape, y_test.shape)"
      ],
      "metadata": {
        "colab": {
          "base_uri": "https://localhost:8080/"
        },
        "id": "2s5o7aFj8amY",
        "outputId": "5331337f-3a31-4d1b-ffe2-aa3ec9867dfb"
      },
      "execution_count": 48,
      "outputs": [
        {
          "output_type": "stream",
          "name": "stdout",
          "text": [
            "(746, 2, 2) (597, 2, 2) (149, 2, 2) (149,)\n"
          ]
        }
      ]
    },
    {
      "cell_type": "code",
      "source": [
        "lstm= Sequential()\n",
        "lstm.add(LSTM(32, input_shape= (X_train.shape[1], X_train.shape[2]), activation= 'relu', return_sequences=False))\n",
        "lstm.add(Dense(1))\n",
        "lstm.compile(loss='mean_squared_error', optimizer= 'adam')\n",
        "lstm.summary()"
      ],
      "metadata": {
        "colab": {
          "base_uri": "https://localhost:8080/"
        },
        "id": "peh99sH3-lA9",
        "outputId": "85132d8f-2711-46d5-c098-cf4a9a91238b"
      },
      "execution_count": 49,
      "outputs": [
        {
          "output_type": "stream",
          "name": "stdout",
          "text": [
            "Model: \"sequential_3\"\n",
            "_________________________________________________________________\n",
            " Layer (type)                Output Shape              Param #   \n",
            "=================================================================\n",
            " lstm_2 (LSTM)               (None, 32)                4480      \n",
            "                                                                 \n",
            " dense_2 (Dense)             (None, 1)                 33        \n",
            "                                                                 \n",
            "=================================================================\n",
            "Total params: 4,513\n",
            "Trainable params: 4,513\n",
            "Non-trainable params: 0\n",
            "_________________________________________________________________\n"
          ]
        }
      ]
    },
    {
      "cell_type": "code",
      "source": [
        "history= lstm.fit(X_train, y_train, epochs= 10, batch_size= 4, verbose=2, shuffle=False)"
      ],
      "metadata": {
        "colab": {
          "base_uri": "https://localhost:8080/"
        },
        "id": "GWQJrXsoBIrG",
        "outputId": "b2312e02-5d48-4ba8-801c-bcc986e225ce"
      },
      "execution_count": 50,
      "outputs": [
        {
          "output_type": "stream",
          "name": "stdout",
          "text": [
            "Epoch 1/10\n",
            "150/150 - 2s - loss: 0.7883 - 2s/epoch - 12ms/step\n",
            "Epoch 2/10\n",
            "150/150 - 0s - loss: 0.3097 - 309ms/epoch - 2ms/step\n",
            "Epoch 3/10\n",
            "150/150 - 0s - loss: 0.0086 - 409ms/epoch - 3ms/step\n",
            "Epoch 4/10\n",
            "150/150 - 0s - loss: 0.0088 - 349ms/epoch - 2ms/step\n",
            "Epoch 5/10\n",
            "150/150 - 0s - loss: 0.0082 - 382ms/epoch - 3ms/step\n",
            "Epoch 6/10\n",
            "150/150 - 0s - loss: 0.0076 - 370ms/epoch - 2ms/step\n",
            "Epoch 7/10\n",
            "150/150 - 0s - loss: 0.0070 - 431ms/epoch - 3ms/step\n",
            "Epoch 8/10\n",
            "150/150 - 0s - loss: 0.0065 - 404ms/epoch - 3ms/step\n",
            "Epoch 9/10\n",
            "150/150 - 0s - loss: 0.0060 - 342ms/epoch - 2ms/step\n",
            "Epoch 10/10\n",
            "150/150 - 0s - loss: 0.0056 - 336ms/epoch - 2ms/step\n"
          ]
        }
      ]
    },
    {
      "cell_type": "code",
      "source": [
        "y_pred= lstm.predict(X_test)\n",
        "rmse= mean_squared_error(y_test, y_pred, squared=False)\n",
        "mape= mean_absolute_percentage_error(y_test, y_pred)\n",
        "print(\"RSME:\", rmse)\n",
        "print(\"MAPE:\",mape)"
      ],
      "metadata": {
        "colab": {
          "base_uri": "https://localhost:8080/"
        },
        "id": "g4mu8P9oBmp-",
        "outputId": "7f1632ae-1694-4792-cc8b-b1bbd26afb66"
      },
      "execution_count": 51,
      "outputs": [
        {
          "output_type": "stream",
          "name": "stdout",
          "text": [
            "5/5 [==============================] - 0s 3ms/step\n",
            "RSME: 0.0850904076779895\n",
            "MAPE: 0.07611384107876784\n"
          ]
        }
      ]
    }
  ]
}